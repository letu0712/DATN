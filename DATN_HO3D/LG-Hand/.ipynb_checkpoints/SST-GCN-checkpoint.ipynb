{
 "cells": [
  {
   "cell_type": "code",
   "execution_count": 1,
   "metadata": {
    "colab": {
     "base_uri": "https://localhost:8080/"
    },
    "executionInfo": {
     "elapsed": 394,
     "status": "ok",
     "timestamp": 1626915885793,
     "user": {
      "displayName": "thành lê",
      "photoUrl": "https://lh3.googleusercontent.com/a-/AOh14Gh0B4sbBDziKrDbj4yVVBZyB1nfTTvek57-EKBa=s64",
      "userId": "18173842511224293527"
     },
     "user_tz": -420
    },
    "id": "mPodsH6q8WYd",
    "outputId": "ddbcae9e-12c3-458a-b184-21a875c1504f"
   },
   "outputs": [
    {
     "name": "stdout",
     "output_type": "stream",
     "text": [
      "/content/drive/MyDrive/SST_GCN\n"
     ]
    }
   ],
   "source": [
    "cd /content/drive/MyDrive/SST_GCN"
   ]
  },
  {
   "cell_type": "markdown",
   "metadata": {
    "id": "jXpGtfDz-Fq1"
   },
   "source": [
    "Test với model đã train với trường hợp 2D dự đoán output2 (59mm)"
   ]
  },
  {
   "cell_type": "code",
   "execution_count": 2,
   "metadata": {
    "colab": {
     "base_uri": "https://localhost:8080/"
    },
    "executionInfo": {
     "elapsed": 41438,
     "status": "ok",
     "timestamp": 1626915929447,
     "user": {
      "displayName": "thành lê",
      "photoUrl": "https://lh3.googleusercontent.com/a-/AOh14Gh0B4sbBDziKrDbj4yVVBZyB1nfTTvek57-EKBa=s64",
      "userId": "18173842511224293527"
     },
     "user_tz": -420
    },
    "id": "znXJqwFA-E_-",
    "outputId": "298d5e5c-8b9e-4229-d975-7411ad3b06a6"
   },
   "outputs": [
    {
     "name": "stdout",
     "output_type": "stream",
     "text": [
      "Namespace(actions='*', batchSize=256, cal_uvd=True, co_diff=0, co_dist=0, crop_uv=0, data_augmentation=True, dataset='FPHAB', downsample=1, in_channels=2, keypoints='pre59', large_decay_epoch=5, layout='fphab_gt', learning_rate=0.001, lr_decay=0.95, model_doc='st_gcn', n_joints=21, nepoch=2, optimizer='Adam', out_all=True, out_channels=3, out_joints=21, pad=1, post_refine=True, post_refine_model='model_post_refine_8_eva_post_5222.pth', post_refine_reload=1, previous_best_threshold=inf, previous_dir='./results/3_frame/st_gcn/pose_refine/pre/', previous_post_refine_name='', previous_st_gcn_name='', pro_test=1, pro_train=0, reverse_augmentation=False, root_path='data/', save_dir='./results/3_frame/st_gcn/pose_refine/pre/', save_model=0, save_out_type='xyz', save_skl=False, show_protocol2=False, stgcn_model='model_st_gcn_8_eva_post_5222.pth', stgcn_reload=1, strategy='spatial', stride=1, subjects_test='Subject_1,Subject_2,Subject_6,Subject_4,Subject_3,Subject_5', subjects_train='Subject_1,Subject_2,Subject_6,Subject_4,Subject_3,Subject_5', subset=1, sym_penalty=0, test_augmentation=False, type3d='gt59', weight_decay=0.0001, workers=6)\n",
      "Random Seed:  1\n",
      "Loading 2D detections...\n",
      "/usr/local/lib/python3.7/dist-packages/torch/utils/data/dataloader.py:481: UserWarning: This DataLoader will create 6 worker processes in total. Our suggested max number of worker in current system is 2, which is smaller than what this DataLoader is going to create. Please be aware that excessive worker creation might get DataLoader running slow or even freeze, lower the worker number to avoid potential slowness/freeze if necessary.\n",
      "  cpuset_checked))\n",
      "/usr/local/lib/python3.7/dist-packages/torch/nn/_reduction.py:42: UserWarning: size_average and reduce args will be deprecated, please use reduction='mean' instead.\n",
      "  warnings.warn(warning.format(ret))\n",
      "======>>>>> Online epoch: #1 <<<<<======\n",
      "======>>>>> test<<<<<======\n",
      "frame_number: 3\n",
      "processing file st_gcn:\n",
      "  0% 0/199 [00:00<?, ?it/s]/usr/local/lib/python3.7/dist-packages/torch/nn/functional.py:718: UserWarning: Named tensors and all their associated APIs are an experimental feature and subject to change. Please do not use them for anything important until they are released as stable. (Triggered internally at  /pytorch/c10/core/TensorImpl.h:1156.)\n",
      "  return torch.max_pool2d(input, kernel_size, stride, padding, dilation, ceil_mode)\n",
      "100% 199/199 [00:10<00:00, 18.54it/s]\n",
      "-----post out\n",
      "=p#1 Action= ==mm==\n",
      "open_milk     40.95\n",
      "open_soda_can  46.94\n",
      "scratch_sponge  40.66\n",
      "give_coin     59.16\n",
      "wash_sponge   45.12\n",
      "open_letter   30.96\n",
      "unfold_glasses  29.85\n",
      "open_peanut_butter  56.02\n",
      "read_letter   71.06\n",
      "pour_liquid_soap  58.83\n",
      "pour_wine    105.84\n",
      "tear_paper    44.77\n",
      "open_wallet   62.32\n",
      "put_tea_bag   48.24\n",
      "high_five     71.46\n",
      "charge_cell_phone  49.71\n",
      "handshake    103.63\n",
      "light_candle  45.28\n",
      "toast_wine    58.56\n",
      "scoop_spoon   36.31\n",
      "flip_sponge   36.17\n",
      "receive_coin  78.30\n",
      "close_peanut_butter  31.93\n",
      "use_flash    116.44\n",
      "flip_pages    48.43\n",
      "close_liquid_soap  51.83\n",
      "close_milk    47.74\n",
      "squeeze_sponge  54.25\n",
      "pour_juice_bottle  43.06\n",
      "pour_milk     42.78\n",
      "take_letter_from_enveloppe  35.47\n",
      "use_calculator  51.49\n",
      "write         38.42\n",
      "put_salt      50.50\n",
      "clean_glasses  41.73\n",
      "prick         44.39\n",
      "open_liquid_soap  65.64\n",
      "open_juice_bottle  34.86\n",
      "close_juice_bottle  27.53\n",
      "sprinkle      37.84\n",
      "give_card     69.71\n",
      "drink_mug     85.04\n",
      "stir          31.00\n",
      "put_sugar     28.38\n",
      "squeeze_paper  51.34\n",
      "Average       52.22\n",
      "loss gt each frame of 1 sample: 52.094163 mm\n",
      "loss thumb each frame of 1 sample: 50.563220 mm\n",
      "loss index each frame of 1 sample: 52.296135 mm\n",
      "loss middle each frame of 1 sample: 52.211669 mm\n",
      "loss ring each frame of 1 sample: 52.428568 mm\n",
      "loss pinky each frame of 1 sample: 54.358785 mm\n",
      "\n",
      "\n",
      "loss Wrist each frame of 1 sample: 46.543897 mm\n",
      "loss MCP each frame of 1 sample: 47.297648 mm\n",
      "loss PIP each frame of 1 sample: 49.180010 mm\n",
      "loss DIP each frame of 1 sample: 53.941941 mm\n",
      "loss TIP each frame of 1 sample: 59.067107 mm\n",
      "==> time to learn 1 sample = 0.211270 (ms)\n"
     ]
    }
   ],
   "source": [
    "!python main_graph.py  --pad 1 --keypoints pre59 --type3d gt59  --post_refine --stgcn_reload 1 --post_refine_reload 1 --previous_dir './results/3_frame/st_gcn/pose_refine/pre/' --stgcn_model 'model_st_gcn_8_eva_post_5222.pth' --post_refine_model 'model_post_refine_8_eva_post_5222.pth' --nepoch 2   \n"
   ]
  },
  {
   "cell_type": "markdown",
   "metadata": {
    "id": "lVD8jsnw9v4i"
   },
   "source": [
    "Nếu muốn train lại thì cấu hình như sau"
   ]
  },
  {
   "cell_type": "code",
   "execution_count": null,
   "metadata": {
    "id": "nJCd6wj-9s9A"
   },
   "outputs": [],
   "source": [
    "!python main_graph.py --pad 1 --keypoints pre59  --type3d gt59 --co_dist 0.1 --pro_train 1 --save_model 1 --nepoch 30"
   ]
  },
  {
   "cell_type": "markdown",
   "metadata": {
    "id": "VDdf-wn-9483"
   },
   "source": [
    "Train tiếp với 15 epoch"
   ]
  },
  {
   "cell_type": "code",
   "execution_count": null,
   "metadata": {
    "id": "UnMniAGu976h"
   },
   "outputs": [],
   "source": [
    "!python main_graph.py --pad 1 --keypoints pre59 --pro_train 1 --type3d gt59 --post_refine --save_out_type 'post' --co_dist 0.1 --co_diff 1 --save_model 1 --learning_rate 1e-5  --stgcn_reload 1 --previous_dir './results/3_frame/st_gcn/no_pose_refine/pre/' --stgcn_model 'model_st_gcn_6_eva_xyz_5242.pth' --nepoch 15"
   ]
  },
  {
   "cell_type": "code",
   "execution_count": null,
   "metadata": {},
   "outputs": [],
   "source": []
  },
  {
   "cell_type": "code",
   "execution_count": null,
   "metadata": {},
   "outputs": [],
   "source": []
  },
  {
   "cell_type": "code",
   "execution_count": null,
   "metadata": {},
   "outputs": [],
   "source": []
  },
  {
   "cell_type": "code",
   "execution_count": null,
   "metadata": {},
   "outputs": [],
   "source": [
    "#Test voi truong hop du doan 2D 3D ground truth FPHAB\n",
    "python main_graph.py  --pad 1 --stgcn_reload 1 --previous_dir './results/3_frame/st_gcn/no_pose_refine/' --stgcn_model 'model_st_gcn_27_eva_xyz_1724.pth' --nepoch 2  "
   ]
  }
 ],
 "metadata": {
  "accelerator": "GPU",
  "colab": {
   "authorship_tag": "ABX9TyOIeoRLETJTSfj6frszN5xb",
   "collapsed_sections": [],
   "mount_file_id": "1x5BiPkxf6VsAVE-yeSWWJVZ6O7iaM7MP",
   "name": "SST-GCN.ipynb",
   "provenance": []
  },
  "kernelspec": {
   "display_name": "Python 2",
   "language": "python",
   "name": "python2"
  }
 },
 "nbformat": 4,
 "nbformat_minor": 1
}
