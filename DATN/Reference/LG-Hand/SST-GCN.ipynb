{
 "cells": [
  {
   "cell_type": "code",
   "execution_count": 1,
   "metadata": {
    "colab": {
     "base_uri": "https://localhost:8080/"
    },
    "executionInfo": {
     "elapsed": 394,
     "status": "ok",
     "timestamp": 1626915885793,
     "user": {
      "displayName": "thành lê",
      "photoUrl": "https://lh3.googleusercontent.com/a-/AOh14Gh0B4sbBDziKrDbj4yVVBZyB1nfTTvek57-EKBa=s64",
      "userId": "18173842511224293527"
     },
     "user_tz": -420
    },
    "id": "mPodsH6q8WYd",
    "outputId": "ddbcae9e-12c3-458a-b184-21a875c1504f"
   },
   "outputs": [
    {
     "name": "stdout",
     "output_type": "stream",
     "text": [
      "[Errno 2] No such file or directory: '/content/drive/MyDrive/SST_GCN'\n",
      "/home/letu/DATN/Reference/SST_GCN\n"
     ]
    }
   ],
   "source": [
    "cd /content/drive/MyDrive/SST_GCN"
   ]
  },
  {
   "cell_type": "markdown",
   "metadata": {
    "id": "jXpGtfDz-Fq1"
   },
   "source": [
    "Test với model đã train với trường hợp 2D dự đoán output2 (59mm)"
   ]
  },
  {
   "cell_type": "code",
   "execution_count": 2,
   "metadata": {},
   "outputs": [
    {
     "name": "stdout",
     "output_type": "stream",
     "text": [
      "/home/letu/DATN/Reference/SST_GCN\r\n"
     ]
    }
   ],
   "source": [
    "!pwd"
   ]
  },
  {
   "cell_type": "code",
   "execution_count": 3,
   "metadata": {
    "colab": {
     "base_uri": "https://localhost:8080/"
    },
    "executionInfo": {
     "elapsed": 41438,
     "status": "ok",
     "timestamp": 1626915929447,
     "user": {
      "displayName": "thành lê",
      "photoUrl": "https://lh3.googleusercontent.com/a-/AOh14Gh0B4sbBDziKrDbj4yVVBZyB1nfTTvek57-EKBa=s64",
      "userId": "18173842511224293527"
     },
     "user_tz": -420
    },
    "id": "znXJqwFA-E_-",
    "outputId": "298d5e5c-8b9e-4229-d975-7411ad3b06a6"
   },
   "outputs": [
    {
     "name": "stdout",
     "output_type": "stream",
     "text": [
      "Traceback (most recent call last):\r\n",
      "  File \"main_graph.py\", line 25, in <module>\r\n",
      "    from utils.data_utils import define_actions\r\n",
      "ModuleNotFoundError: No module named 'utils.data_utils'\r\n"
     ]
    }
   ],
   "source": [
    "!python main_graph.py  --pad 1 --keypoints pre59 --type3d gt59  --post_refine --stgcn_reload 1 --post_refine_reload 1 --previous_dir './results/3_frame/st_gcn/pose_refine/pre/' --stgcn_model 'model_st_gcn_8_eva_post_5222.pth' --post_refine_model 'model_post_refine_8_eva_post_5222.pth' --nepoch 2   \n"
   ]
  },
  {
   "cell_type": "markdown",
   "metadata": {
    "id": "lVD8jsnw9v4i"
   },
   "source": [
    "Nếu muốn train lại thì cấu hình như sau"
   ]
  },
  {
   "cell_type": "code",
   "execution_count": 4,
   "metadata": {
    "id": "nJCd6wj-9s9A"
   },
   "outputs": [
    {
     "name": "stdout",
     "output_type": "stream",
     "text": [
      "Traceback (most recent call last):\r\n",
      "  File \"main_graph.py\", line 25, in <module>\r\n",
      "    from utils.data_utils import define_actions\r\n",
      "ModuleNotFoundError: No module named 'utils.data_utils'\r\n"
     ]
    }
   ],
   "source": [
    "!python main_graph.py --pad 1 --keypoints pre59  --type3d gt59 --co_dist 0.1 --pro_train 1 --save_model 1 --nepoch 30"
   ]
  },
  {
   "cell_type": "markdown",
   "metadata": {
    "id": "VDdf-wn-9483"
   },
   "source": [
    "Train tiếp với 15 epoch"
   ]
  },
  {
   "cell_type": "code",
   "execution_count": null,
   "metadata": {
    "id": "UnMniAGu976h"
   },
   "outputs": [],
   "source": [
    "!python main_graph.py --pad 1 --keypoints pre59 --pro_train 1 --type3d gt59 --post_refine --save_out_type 'post' --co_dist 0.1 --co_diff 1 --save_model 1 --learning_rate 1e-5  --stgcn_reload 1 --previous_dir './results/3_frame/st_gcn/no_pose_refine/pre/' --stgcn_model 'model_st_gcn_6_eva_xyz_5242.pth' --nepoch 15"
   ]
  }
 ],
 "metadata": {
  "accelerator": "GPU",
  "colab": {
   "authorship_tag": "ABX9TyOIeoRLETJTSfj6frszN5xb",
   "collapsed_sections": [],
   "mount_file_id": "1x5BiPkxf6VsAVE-yeSWWJVZ6O7iaM7MP",
   "name": "SST-GCN.ipynb",
   "provenance": []
  },
  "kernelspec": {
   "display_name": "Python 3",
   "language": "python",
   "name": "python3"
  },
  "language_info": {
   "codemirror_mode": {
    "name": "ipython",
    "version": 3
   },
   "file_extension": ".py",
   "mimetype": "text/x-python",
   "name": "python",
   "nbconvert_exporter": "python",
   "pygments_lexer": "ipython3",
   "version": "3.6.9"
  }
 },
 "nbformat": 4,
 "nbformat_minor": 1
}
